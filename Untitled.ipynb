{
 "cells": [
  {
   "cell_type": "code",
   "execution_count": 5,
   "id": "136f9689",
   "metadata": {},
   "outputs": [
    {
     "name": "stdout",
     "output_type": "stream",
     "text": [
      "Enter password:ad@34\n",
      "Password length: 5\n",
      "Weak: Password is too short.Minimum 6 characters required.\n"
     ]
    }
   ],
   "source": [
    "import re\n",
    "password = input (\"Enter password:\")\n",
    "length = len(password)\n",
    "print(\"Password length:\",length)\n",
    "if length < 6:\n",
    "    print(\"Weak: Password is too short.Minimum 6 characters required.\")\n",
    "elif length < 10:\n",
    "    print(\"Medium:Password length is not bad but could be stronger.\")\n",
    "else:\n",
    "    print(\"Good: Password length is strong.\")\n",
    "    \n",
    "    for char in password:\n",
    "        if char.isupper():\n",
    "            has_upper = True\n",
    "        elif char.islower():\n",
    "            has_lower = True\n",
    "        elif char.isdigit():\n",
    "            has_digit = True\n",
    "        else:\n",
    "            has_special = True\n",
    "    print(\"Strong password\")\n",
    "    print(\"Weak password\")"
   ]
  },
  {
   "cell_type": "code",
   "execution_count": null,
   "id": "675b49ef",
   "metadata": {},
   "outputs": [],
   "source": []
  },
  {
   "cell_type": "code",
   "execution_count": null,
   "id": "0385bbcb",
   "metadata": {},
   "outputs": [],
   "source": []
  },
  {
   "cell_type": "code",
   "execution_count": null,
   "id": "8b39a85d",
   "metadata": {},
   "outputs": [],
   "source": []
  }
 ],
 "metadata": {
  "kernelspec": {
   "display_name": "Python 3 (ipykernel)",
   "language": "python",
   "name": "python3"
  },
  "language_info": {
   "codemirror_mode": {
    "name": "ipython",
    "version": 3
   },
   "file_extension": ".py",
   "mimetype": "text/x-python",
   "name": "python",
   "nbconvert_exporter": "python",
   "pygments_lexer": "ipython3",
   "version": "3.10.7"
  }
 },
 "nbformat": 4,
 "nbformat_minor": 5
}
