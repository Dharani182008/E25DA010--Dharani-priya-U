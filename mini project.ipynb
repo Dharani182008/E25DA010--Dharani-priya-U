{
 "cells": [
  {
   "cell_type": "code",
   "execution_count": 4,
   "id": "8fd305d5-a825-411c-96da-326f37576c7f",
   "metadata": {},
   "outputs": [
    {
     "name": "stdin",
     "output_type": "stream",
     "text": [
      "Enter password priya@123\n"
     ]
    },
    {
     "name": "stdout",
     "output_type": "stream",
     "text": [
      "Password length: 9\n",
      "Medium: password length is not bad but could be stronger.\n",
      " Strong password\n",
      "Weak password\n"
     ]
    }
   ],
   "source": [
    "import re\n",
    "password = input(\"Enter password\")\n",
    "length = len(password)\n",
    "print(\"Password length:\",length)\n",
    "if length < 6:\n",
    "    print(\"Weak : Password is too short.Minimum 6 characters required.\")\n",
    "elif length < 10:\n",
    "    print(\"Medium: password length is not bad but could be stronger.\")\n",
    "else:\n",
    "    print(\"Good: Password length is strong.\")\n",
    "for char in password:\n",
    "    if char.isupper():\n",
    "        has_upper = True\n",
    "    elif char.islower():\n",
    "        has_lower = True\n",
    "    elif char.isdigit():\n",
    "        has_digit = True\n",
    "    else:\n",
    "        has_special = True\n",
    "print(\" Strong password\")\n",
    "print(\"Weak password\")"
   ]
  },
  {
   "cell_type": "code",
   "execution_count": null,
   "id": "7da6c90a-025f-4550-97fb-059b7610fbd6",
   "metadata": {},
   "outputs": [],
   "source": []
  }
 ],
 "metadata": {
  "kernelspec": {
   "display_name": "Python 3 (ipykernel)",
   "language": "python",
   "name": "python3"
  },
  "language_info": {
   "codemirror_mode": {
    "name": "ipython",
    "version": 3
   },
   "file_extension": ".py",
   "mimetype": "text/x-python",
   "name": "python",
   "nbconvert_exporter": "python",
   "pygments_lexer": "ipython3",
   "version": "3.13.5"
  }
 },
 "nbformat": 4,
 "nbformat_minor": 5
}
