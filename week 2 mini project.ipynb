{
 "cells": [
  {
   "cell_type": "code",
   "execution_count": 1,
   "id": "e0e8cd0a-ada0-4581-b794-87ac5c87d92e",
   "metadata": {},
   "outputs": [
    {
     "name": "stdout",
     "output_type": "stream",
     "text": [
      "         Age  Gender  Score\n",
      "0  25.000000    Male  85.00\n",
      "1  25.666667  Female  90.00\n",
      "2  30.000000  Female  83.25\n",
      "3  22.000000    Male  70.00\n",
      "4  25.666667  Female  88.00\n"
     ]
    }
   ],
   "source": [
    "import pandas as pd\n",
    "import numpy as np\n",
    "data={\n",
    "    \"Age\": [25, np.nan, 30, 22, np.nan],\n",
    "    \"Gender\": [\"Male\", \"Female\", np.nan, \"Male\", \"Female\"],\n",
    "    \"Score\": [85, 90, np.nan, 70, 88]\n",
    "     }\n",
    "df=pd.DataFrame(data)\n",
    "df['Age']=df[\"Age\"].fillna(df[\"Age\"].mean())\n",
    "df['Gender']=df[\"Gender\"].fillna(df[\"Gender\"].mode()[0])\n",
    "df['Score']=df[\"Score\"].fillna(df[\"Score\"].mean())\n",
    "df.to_csv(\"output.csv\", index=False)\n",
    "print(df)"
   ]
  },
  {
   "cell_type": "code",
   "execution_count": 2,
   "id": "91fea656-12d8-4e9c-87b1-a28b6bd109df",
   "metadata": {},
   "outputs": [
    {
     "name": "stdout",
     "output_type": "stream",
     "text": [
      "    Age  Gender  Score\n",
      "0  25.0    Male   85.0\n",
      "1   NaN  Female   90.0\n",
      "2  30.0     NaN    NaN\n",
      "3  22.0    Male   70.0\n",
      "4   NaN  Female   88.0\n"
     ]
    }
   ],
   "source": [
    "import pandas as pd\n",
    "import numpy as np\n",
    "data={\n",
    "    \"Age\": [25, np.nan, 30, 22, np.nan],\n",
    "    \"Gender\": [\"Male\", \"Female\", np.nan, \"Male\", \"Female\"],\n",
    "    \"Score\": [85, 90, np.nan, 70, 88]\n",
    "     }\n",
    "df=pd.DataFrame(data)\n",
    "df.to_csv(\"output.csv\", index=False)\n",
    "print(df)"
   ]
  },
  {
   "cell_type": "code",
   "execution_count": 3,
   "id": "8dfed229-8c6a-4fd7-b8ba-a32b99433d9d",
   "metadata": {},
   "outputs": [
    {
     "name": "stdout",
     "output_type": "stream",
     "text": [
      "    Age  Gender  Score\n",
      "0  25.0    Male   85.0\n",
      "1   NaN  Female   90.0\n",
      "2  30.0     NaN    NaN\n",
      "3  22.0    Male   70.0\n",
      "4   NaN  Female   88.0\n"
     ]
    }
   ],
   "source": [
    "import pandas as pd\n",
    "import numpy as np\n",
    "data={\n",
    "    \"Age\": [25, np.nan, 30, 22, np.nan],\n",
    "    \"Gender\": [\"Male\", \"Female\", np.nan, \"Male\", \"Female\"],\n",
    "    \"Score\": [85, 90, np.nan, 70, 88]\n",
    "     }\n",
    "df=pd.DataFrame(data)\n",
    "print(df)"
   ]
  },
  {
   "cell_type": "code",
   "execution_count": 4,
   "id": "c7115f8d-e6b1-4c78-b087-2d057dba67d9",
   "metadata": {},
   "outputs": [
    {
     "name": "stdout",
     "output_type": "stream",
     "text": [
      "         Age  Gender  Score\n",
      "0  25.000000    Male  85.00\n",
      "1  25.666667  Female  90.00\n",
      "2  30.000000  Female  83.25\n",
      "3  22.000000    Male  70.00\n",
      "4  25.666667  Female  88.00\n"
     ]
    }
   ],
   "source": [
    "import pandas as pd\n",
    "import numpy as np\n",
    "data={\n",
    "    \"Age\": [25, np.nan, 30, 22, np.nan],\n",
    "    \"Gender\": [\"Male\", \"Female\", np.nan, \"Male\", \"Female\"],\n",
    "    \"Score\": [85, 90, np.nan, 70, 88]\n",
    "     }\n",
    "df=pd.DataFrame(data)\n",
    "df['Age']=df[\"Age\"].fillna(df[\"Age\"].mean())\n",
    "df['Gender']=df[\"Gender\"].fillna(df[\"Gender\"].mode()[0])\n",
    "df['Score']=df[\"Score\"].fillna(df[\"Score\"].mean())\n",
    "print(df)"
   ]
  },
  {
   "cell_type": "code",
   "execution_count": null,
   "id": "5dad655d-f041-46c7-a7e1-a0859181513f",
   "metadata": {},
   "outputs": [],
   "source": []
  }
 ],
 "metadata": {
  "kernelspec": {
   "display_name": "Python 3 (ipykernel)",
   "language": "python",
   "name": "python3"
  },
  "language_info": {
   "codemirror_mode": {
    "name": "ipython",
    "version": 3
   },
   "file_extension": ".py",
   "mimetype": "text/x-python",
   "name": "python",
   "nbconvert_exporter": "python",
   "pygments_lexer": "ipython3",
   "version": "3.13.5"
  }
 },
 "nbformat": 4,
 "nbformat_minor": 5
}
